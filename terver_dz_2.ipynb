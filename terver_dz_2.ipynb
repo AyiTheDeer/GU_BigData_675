{
 "cells": [
  {
   "cell_type": "code",
   "execution_count": 1,
   "metadata": {},
   "outputs": [],
   "source": [
    "from math import factorial"
   ]
  },
  {
   "cell_type": "code",
   "execution_count": 2,
   "metadata": {},
   "outputs": [],
   "source": [
    "# функция сочетаний\n",
    "def combinations(n, k):\n",
    "    return int(factorial(n) / (factorial(k) * factorial(n - k)))"
   ]
  },
  {
   "cell_type": "code",
   "execution_count": 14,
   "metadata": {},
   "outputs": [],
   "source": [
    "# формула Бернулли\n",
    "# p - это вероятность наступления события\n",
    "# q = 1 - p\n",
    "# k ,число наступления события, - это дискретная величина из отрезка [0, n]\n",
    "def bernul(n, k, p):\n",
    "    return combinations(n, k) * p**k * (1-p)**(n-k)"
   ]
  },
  {
   "cell_type": "code",
   "execution_count": 26,
   "metadata": {},
   "outputs": [],
   "source": [
    "# Пуассон\n",
    "# m - количество событий\n",
    "# n - количество испытаний\n",
    "# p - вероятность появления события \n",
    "def puasson(m, n, p):\n",
    "    a = p * n\n",
    "    return a**m / factorial(m) * 2.72**(-a)"
   ]
  },
  {
   "cell_type": "markdown",
   "metadata": {},
   "source": [
    "###### Задание 1"
   ]
  },
  {
   "cell_type": "markdown",
   "metadata": {},
   "source": [
    "Вероятность того, что стрелок попадет в мишень, выстрелив один раз, равна 0.8. Стрелок выстрелил 100 раз. Найдите вероятность того, что стрелок попадет в цель ровно 85 раз."
   ]
  },
  {
   "cell_type": "code",
   "execution_count": 16,
   "metadata": {},
   "outputs": [
    {
     "name": "stdout",
     "output_type": "stream",
     "text": [
      "Ответ: 0.048061793700746355\n"
     ]
    }
   ],
   "source": [
    "print(f'Ответ: {bernul(100, 85, 0.8)}')"
   ]
  },
  {
   "cell_type": "markdown",
   "metadata": {},
   "source": [
    "###### Задание 2"
   ]
  },
  {
   "cell_type": "markdown",
   "metadata": {},
   "source": [
    "Вероятность того, что лампочка перегорит в течение первого дня эксплуатации, равна 0.0004. В жилом комплексе после ремонта в один день включили 5000 новых лампочек. Какова вероятность, что ни одна из них не перегорит в первый день? Какова вероятность, что перегорят ровно две?"
   ]
  },
  {
   "cell_type": "code",
   "execution_count": 29,
   "metadata": {},
   "outputs": [
    {
     "name": "stdout",
     "output_type": "stream",
     "text": [
      "Вероятность, что ни одна из них не перегорит в первый день\n",
      "Ответ: 0.13516435986159167\n"
     ]
    }
   ],
   "source": [
    "print('Вероятность, что ни одна из них не перегорит в первый день')\n",
    "print(f'Ответ: {puasson(0, 5000, 0.0004)}')"
   ]
  },
  {
   "cell_type": "code",
   "execution_count": 31,
   "metadata": {},
   "outputs": [
    {
     "name": "stdout",
     "output_type": "stream",
     "text": [
      "Вероятность, что перегорят ровно две\n",
      "Ответ: 0.27032871972318334\n"
     ]
    }
   ],
   "source": [
    "print('Вероятность, что перегорят ровно две')\n",
    "print(f'Ответ: {puasson(2, 5000, 0.0004)}')"
   ]
  },
  {
   "cell_type": "markdown",
   "metadata": {},
   "source": [
    "###### Задание 3"
   ]
  },
  {
   "cell_type": "markdown",
   "metadata": {},
   "source": [
    "Монету подбросили 144 раза. Какова вероятность, что орел выпадет ровно 70 раз?"
   ]
  },
  {
   "cell_type": "code",
   "execution_count": 33,
   "metadata": {},
   "outputs": [
    {
     "name": "stdout",
     "output_type": "stream",
     "text": [
      "Ответ: 0.06281178035144776\n"
     ]
    }
   ],
   "source": [
    "print(f'Ответ: {bernul(144, 70, 0.5)}')"
   ]
  },
  {
   "cell_type": "markdown",
   "metadata": {},
   "source": [
    "###### Задание 4"
   ]
  },
  {
   "cell_type": "markdown",
   "metadata": {},
   "source": [
    "В первом ящике находится 10 мячей, из которых 7 - белые. Во втором ящике - 11 мячей, из которых 9 белых. Из каждого ящика вытаскивают случайным образом по два мяча. Какова вероятность того, что все мячи белые? Какова вероятность того, что ровно два мяча белые? Какова вероятность того, что хотя бы один мяч белый?"
   ]
  },
  {
   "cell_type": "code",
   "execution_count": 35,
   "metadata": {},
   "outputs": [
    {
     "data": {
      "text/plain": [
       "0.3054545454545454"
      ]
     },
     "execution_count": 35,
     "metadata": {},
     "output_type": "execute_result"
    }
   ],
   "source": [
    "# Вероятность того, что все мячи белые\n",
    "7/10 * 6/9 * 9/11 * 8/10"
   ]
  },
  {
   "cell_type": "code",
   "execution_count": 46,
   "metadata": {},
   "outputs": [
    {
     "name": "stdout",
     "output_type": "stream",
     "text": [
      "Вероятность того, что ровно два мяча белые: 0.0903030303030303\n"
     ]
    }
   ],
   "source": [
    "# вероятность 1 белый из первого и 1 белый из второго\n",
    "p1 = 7/10 * 3/9 * 9/11 * 2/10\n",
    "\n",
    "# вероятность 2 белых из первого и 0 из второго\n",
    "p2 = 7/10 * 6/9 * 2/11 * 1/10\n",
    "\n",
    "# вероятность 2 белых из второго и 0 из первого\n",
    "p3 = 3/10 * 2/9 * 9/11 * 8/10\n",
    "\n",
    "print(f'Вероятность того, что ровно два мяча белые: {p1 + p2 + p3}')"
   ]
  },
  {
   "cell_type": "code",
   "execution_count": 49,
   "metadata": {},
   "outputs": [
    {
     "name": "stdout",
     "output_type": "stream",
     "text": [
      "Вероятность того, что хотя бы один мяч белый: 0.3969696969696969\n"
     ]
    }
   ],
   "source": [
    "# вероятность 1 белый из первого\n",
    "p1 = 7/10 * 3/9\n",
    "\n",
    "# вероятность 1 белый из второго\n",
    "p2 = 9/11 * 2/10\n",
    "print(f'Вероятность того, что хотя бы один мяч белый: {p1 + p2}')"
   ]
  }
 ],
 "metadata": {
  "kernelspec": {
   "display_name": "Python 3",
   "language": "python",
   "name": "python3"
  },
  "language_info": {
   "codemirror_mode": {
    "name": "ipython",
    "version": 3
   },
   "file_extension": ".py",
   "mimetype": "text/x-python",
   "name": "python",
   "nbconvert_exporter": "python",
   "pygments_lexer": "ipython3",
   "version": "3.8.3"
  }
 },
 "nbformat": 4,
 "nbformat_minor": 4
}
